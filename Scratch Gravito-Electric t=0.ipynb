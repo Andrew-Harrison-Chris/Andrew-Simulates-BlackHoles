{
 "cells": [
  {
   "cell_type": "code",
   "execution_count": 1,
   "metadata": {},
   "outputs": [],
   "source": [
    "%matplotlib inline\n",
    "from ipywidgets import interactive \n",
    "import seaborn as sb\n",
    "import matplotlib.pyplot as plt \n",
    "import numpy as np "
   ]
  },
  {
   "cell_type": "code",
   "execution_count": 2,
   "metadata": {},
   "outputs": [],
   "source": [
    "#Define the matrix\n",
    "#write better documentation\n",
    "def E_Matrix(r, theta):\n",
    "    #Input conditions of problem\n",
    "    Q = 1\n",
    "    G = 1\n",
    "    k = 1\n",
    "    w = 1\n",
    "    t = 0\n",
    "    C = 4*G*Q*(k**2)\n",
    "    Err = ((-C/r**3)*((3/((k*r)**2)-1)*np.cos(k*r-w*t)+3*np.sin(k*r-w*t)/(k*r)))*(3*np.cos(theta)**2-1)\n",
    "    Ert = (-C/r**3)*((6/((k*r)**2)-3)*np.cos(k*r-w*t)-(k*r-6/(k*r))*np.sin(k*r-w*t))*(np.sin(theta)*np.cos(theta))\n",
    "    Edif = (-C/(2*r**3))*((-3/((k*r)**2)+3-(k*r)**2)*np.cos(k*r-w*t)-(3/(k*r)-2*k*r)*np.sin(k*r-w*t))*(np.sin(theta)**2)\n",
    "    Matrix = np.array([[Err, Ert], \n",
    "                       [Ert, (Edif-Err)/2]])\n",
    "    \n",
    "    return Matrix"
   ]
  },
  {
   "cell_type": "code",
   "execution_count": 3,
   "metadata": {},
   "outputs": [],
   "source": [
    "## Use the x and y coordinates, create a grid, convert those into polar and get the matrix values at each point\n",
    "\n",
    "nx, ny = 100,200 \n",
    "grid = 10\n",
    "       \n",
    "XMAX, YMAX = 8, 8\n",
    "x = np.linspace(0, XMAX, nx)\n",
    "y = np.linspace(-YMAX, YMAX, ny)\n",
    "X, Y = np.meshgrid(x, y)\n",
    "r, theta = np.hypot(X,Y), np.arctan2(X,Y)\n",
    "arrayR = ([X/r, Y/r], [-Y/r, X/r])\n",
    "Matrix1 = E_Matrix(r, theta)\n",
    "\n",
    "#after getting matrix values, swap axes for iteration \n",
    "MatrixSwap1 = np.swapaxes(np.swapaxes(Matrix1,0,2),1,3)\n",
    "eigval1, eigvec1 = np.linalg.eig(MatrixSwap1)\n",
    "\n",
    "\n",
    "Rotation1 = [[np.sin(theta), np.cos(theta)],\n",
    "            [np.cos(theta), -np.sin(theta)]]\n",
    "\n",
    "RotationSwap1 = np.swapaxes(np.swapaxes(Rotation1,0,2),1,3)\n",
    "\n",
    "cartMatrix1 = np.matmul(RotationSwap1, eigvec1)\n",
    "\n",
    "#Separate into larger and smaller magnitude eigenvalues\n",
    "large_eigval1 = np.amax(np.abs(eigval1), axis=2)\n",
    "small_eigval1 = np.amin(np.abs(eigval1), axis=2)"
   ]
  },
  {
   "cell_type": "code",
   "execution_count": 4,
   "metadata": {},
   "outputs": [],
   "source": [
    "#Create a scaled version of the plot where the eigenvector corresponding to the larger eigenvalue is scaled to 1\n",
    "#and the eigenvector corresponding to the smaller eigenvalue is scaled to 1*ratio of the eigenvalues. \n",
    "for i in range(0, ny):\n",
    "    for j in range(0, nx):\n",
    "        if abs(eigval1[i,j,0]) > abs(eigval1[i,j,1]):\n",
    "            cartMatrix1[i,j,0,0] = cartMatrix1[i,j,0,0]\n",
    "            cartMatrix1[i,j,1,0] = cartMatrix1[i,j,1,0]\n",
    "            cartMatrix1[i,j,0,1] = cartMatrix1[i,j,0,1]*abs(eigval1[i,j,1]/eigval1[i,j,0])\n",
    "            cartMatrix1[i,j,1,1] = cartMatrix1[i,j,1,1]*abs(eigval1[i,j,1]/eigval1[i,j,0])\n",
    "        else:\n",
    "            cartMatrix1[i,j,0,1] = cartMatrix1[i,j,0,1]\n",
    "            cartMatrix1[i,j,1,1] = cartMatrix1[i,j,1,1]\n",
    "            cartMatrix1[i,j,0,0] = cartMatrix1[i,j,0,0]*abs(eigval1[i,j,0]/eigval1[i,j,1])\n",
    "            cartMatrix1[i,j,1,0] = cartMatrix1[i,j,1,0]*abs(eigval1[i,j,0]/eigval1[i,j,1])"
   ]
  },
  {
   "cell_type": "code",
   "execution_count": 5,
   "metadata": {},
   "outputs": [
    {
     "ename": "IndexError",
     "evalue": "too many indices for array",
     "output_type": "error",
     "traceback": [
      "\u001b[0;31m---------------------------------------------------------------------------\u001b[0m",
      "\u001b[0;31mIndexError\u001b[0m                                Traceback (most recent call last)",
      "\u001b[0;32m<ipython-input-5-992dd26e340a>\u001b[0m in \u001b[0;36m<module>\u001b[0;34m\u001b[0m\n\u001b[1;32m      8\u001b[0m                 \u001b[0mcartMatrix1\u001b[0m\u001b[0;34m[\u001b[0m\u001b[0mi\u001b[0m\u001b[0;34m,\u001b[0m\u001b[0mj\u001b[0m\u001b[0;34m,\u001b[0m\u001b[0;34m:\u001b[0m\u001b[0;34m,\u001b[0m\u001b[0;36m1\u001b[0m\u001b[0;34m]\u001b[0m \u001b[0;34m=\u001b[0m \u001b[0mcolorVec\u001b[0m\u001b[0;34m[\u001b[0m\u001b[0mi\u001b[0m\u001b[0;34m,\u001b[0m\u001b[0mj\u001b[0m\u001b[0;34m,\u001b[0m\u001b[0;34m:\u001b[0m\u001b[0;34m,\u001b[0m\u001b[0;36m1\u001b[0m\u001b[0;34m]\u001b[0m\u001b[0;34m\u001b[0m\u001b[0;34m\u001b[0m\u001b[0m\n\u001b[1;32m      9\u001b[0m             \u001b[0;32melif\u001b[0m \u001b[0mnp\u001b[0m\u001b[0;34m.\u001b[0m\u001b[0msign\u001b[0m\u001b[0;34m(\u001b[0m\u001b[0meigval1\u001b[0m\u001b[0;34m[\u001b[0m\u001b[0mi\u001b[0m\u001b[0;34m,\u001b[0m\u001b[0mj\u001b[0m\u001b[0;34m,\u001b[0m\u001b[0;36m0\u001b[0m\u001b[0;34m]\u001b[0m\u001b[0;34m)\u001b[0m \u001b[0;34m<\u001b[0m \u001b[0;36m0\u001b[0m\u001b[0;34m:\u001b[0m\u001b[0;34m\u001b[0m\u001b[0;34m\u001b[0m\u001b[0m\n\u001b[0;32m---> 10\u001b[0;31m                 \u001b[0mcartMatrix1\u001b[0m\u001b[0;34m[\u001b[0m\u001b[0mi\u001b[0m\u001b[0;34m,\u001b[0m\u001b[0mj\u001b[0m\u001b[0;34m,\u001b[0m\u001b[0;34m:\u001b[0m\u001b[0;34m,\u001b[0m\u001b[0;36m0\u001b[0m\u001b[0;34m]\u001b[0m \u001b[0;34m=\u001b[0m \u001b[0mcolorVec\u001b[0m\u001b[0;34m[\u001b[0m\u001b[0mi\u001b[0m\u001b[0;34m,\u001b[0m\u001b[0mj\u001b[0m\u001b[0;34m,\u001b[0m\u001b[0;34m:\u001b[0m\u001b[0;34m,\u001b[0m\u001b[0;36m1\u001b[0m\u001b[0;34m]\u001b[0m\u001b[0;34m\u001b[0m\u001b[0;34m\u001b[0m\u001b[0m\n\u001b[0m\u001b[1;32m     11\u001b[0m                 \u001b[0mcartMatrix1\u001b[0m\u001b[0;34m[\u001b[0m\u001b[0mi\u001b[0m\u001b[0;34m,\u001b[0m\u001b[0mj\u001b[0m\u001b[0;34m,\u001b[0m\u001b[0;34m:\u001b[0m\u001b[0;34m,\u001b[0m\u001b[0;36m1\u001b[0m\u001b[0;34m]\u001b[0m \u001b[0;34m=\u001b[0m \u001b[0mcolorVec\u001b[0m\u001b[0;34m[\u001b[0m\u001b[0mi\u001b[0m\u001b[0;34m,\u001b[0m\u001b[0mj\u001b[0m\u001b[0;34m,\u001b[0m\u001b[0;34m:\u001b[0m\u001b[0;34m,\u001b[0m\u001b[0;36m0\u001b[0m\u001b[0;34m]\u001b[0m\u001b[0;34m\u001b[0m\u001b[0;34m\u001b[0m\u001b[0m\n\u001b[1;32m     12\u001b[0m         \u001b[0;32melif\u001b[0m \u001b[0mabs\u001b[0m\u001b[0;34m(\u001b[0m\u001b[0meigval1\u001b[0m\u001b[0;34m[\u001b[0m\u001b[0mi\u001b[0m\u001b[0;34m,\u001b[0m\u001b[0mj\u001b[0m\u001b[0;34m,\u001b[0m\u001b[0;36m1\u001b[0m\u001b[0;34m]\u001b[0m\u001b[0;34m)\u001b[0m \u001b[0;34m>\u001b[0m \u001b[0mabs\u001b[0m\u001b[0;34m(\u001b[0m\u001b[0meigval1\u001b[0m\u001b[0;34m[\u001b[0m\u001b[0mi\u001b[0m\u001b[0;34m,\u001b[0m\u001b[0mj\u001b[0m\u001b[0;34m,\u001b[0m\u001b[0;36m0\u001b[0m\u001b[0;34m]\u001b[0m\u001b[0;34m)\u001b[0m\u001b[0;34m:\u001b[0m\u001b[0;34m\u001b[0m\u001b[0;34m\u001b[0m\u001b[0m\n",
      "\u001b[0;31mIndexError\u001b[0m: too many indices for array"
     ]
    }
   ],
   "source": [
    "colorVec = np.array([])\n",
    "\n",
    "for i in range(0, ny):\n",
    "    for j in range(0, nx):\n",
    "        if abs(eigval1[i,j,0]) > abs(eigval1[i,j,1]):\n",
    "            if np.sign(eigval1[i,j,0]) > 0:\n",
    "                cartMatrix1[i,j,:,0] = colorVec[i,j,:,0]\n",
    "                cartMatrix1[i,j,:,1] = colorVec[i,j,:,1]\n",
    "            elif np.sign(eigval1[i,j,0]) < 0:\n",
    "                cartMatrix1[i,j,:,0] = colorVec[i,j,:,1]\n",
    "                cartMatrix1[i,j,:,1] = colorVec[i,j,:,0]\n",
    "        elif abs(eigval1[i,j,1]) > abs(eigval1[i,j,0]):\n",
    "            if np.sign(eigval1[i,j,1]) > 0:\n",
    "                cartMatrix1[i,j,:,1] = colorVec[i,j,:,0]\n",
    "                cartMatrix1[i,j,:,0] = colorVec[i,j,:,1]\n",
    "            elif np.sign(eigval1[i,j,1]) < 0:\n",
    "                cartMatrix1[i,j,:,0] = colorVec[i,j,:,1]\n",
    "                cartMatrix1[i,j,:,1] = colorVec[i,j,:,0]"
   ]
  },
  {
   "cell_type": "code",
   "execution_count": null,
   "metadata": {},
   "outputs": [],
   "source": [
    "##### plot of eigenvectors for both eigenvalues + and - \n",
    "#this is the same thing as below but without the scaling related to eigenvalue magnitude\n",
    "fig, ax1 = plt.subplots()\n",
    "ax1.quiver(X[::grid,::grid],Y[::grid,::grid],colorVec[::grid,::grid,0,0],colorVec[::grid,::grid,1,0], units='xy', pivot='mid', color='blue', headlength=0, headwidth=1, scale=1)\n",
    "ax1.quiver(X[::grid,::grid],Y[::grid,::grid],colorVec[::grid,::grid,0,1],colorVec[::grid,::grid,1,1], units='xy', pivot='mid', color='red', headlength=0, headwidth=1, scale=1)\n",
    "z1 = large_eigval1\n",
    "ax1 = plt.imshow(np.log10(np.abs(z1)), interpolation='bilinear', cmap='Greys', extent = [-.5,XMAX,-YMAX,YMAX])\n",
    "plt.colorbar()\n",
    "plt.show()"
   ]
  },
  {
   "cell_type": "code",
   "execution_count": null,
   "metadata": {},
   "outputs": [],
   "source": [
    "##### plot of eigenvectors for both eigenvalues + and - \n",
    "#this is the same thing as below but without the scaling related to eigenvalue magnitude\n",
    "fig, ax1 = plt.subplots()\n",
    "ax1.quiver(X[::grid,::grid],Y[::grid,::grid],cartMatrix1[::grid,::grid,0,0],cartMatrix1[::grid,::grid,1,0], units='xy', pivot='mid', headlength=0, headwidth=1, scale=2)\n",
    "ax1.quiver(X[::grid,::grid],Y[::grid,::grid],cartMatrix1[::grid,::grid,0,1],cartMatrix1[::grid,::grid,1,1], units='xy', pivot='mid', headlength=0, headwidth=1, scale=2)\n",
    "z1 = large_eigval1\n",
    "ax1 = plt.imshow(np.log10(np.abs(z1)), interpolation='bilinear', cmap='Greys', extent = [-.5,XMAX,-YMAX,YMAX])\n",
    "plt.colorbar()\n",
    "plt.show()"
   ]
  },
  {
   "cell_type": "code",
   "execution_count": null,
   "metadata": {},
   "outputs": [],
   "source": [
    "#This was an attempt at doing the eigvector calculation myself and seeing if i could match the results from\n",
    "#numerical method. It did not work but is kept here for historical purposes.\n",
    "#\n",
    "#matrix[0,0]=matrix[0,0:,:]\n",
    "\n",
    "\n",
    "#Define terms of quadratic equation\n",
    "a = 1\n",
    "b = -(Matrix[0,0] + Matrix[1,1])\n",
    "c = Matrix[0,0]*Matrix[1,1] - Matrix[0,1]*Matrix[1,0]\n",
    "\n",
    "#Calculate eigenvalues \n",
    "Eigvalue1 = (-b + np.sqrt(b**2-4*a*c))/2*a\n",
    "Eigvalue2 = (-b - np.sqrt(b**2-4*a*c))/2*a\n",
    "\n",
    "#Calculate the Eigenvectors\n",
    "I = np.identity(nx)\n",
    "print(np.shape(MatrixSwap))\n",
    "EigMatrix1 = Matrix - Eigvalue1*I\n",
    "EigMatrix2 = Matrix - Eigvalue2*I\n",
    "normalize1 = np.sqrt(EigMatrix1[0,0]**2 + EigMatrix1[1,0]**2)\n",
    "normalize2 = np.sqrt(EigMatrix2[0,0]**2 + EigMatrix2[1,0]**2)\n",
    "EigVec = np.array([[EigMatrix1[0,0]/normalize1, -EigMatrix2[0,0]/normalize2],\n",
    "                    [EigMatrix1[1,0]/normalize1, -EigMatrix2[1,0]/normalize2]])\n",
    "EigVecSwap = np.swapaxes(np.swapaxes(EigVec,0,2),1,3)\n",
    "CartAnalytical = np.matmul(RotationSwap,EigVecSwap)\n",
    "\n",
    "fig, ax1 = plt.subplots()\n",
    "ax1.quiver(X[::grid,::grid],Y[::grid,::grid], EigVecSwap[::grid,::grid,0,0],EigVecSwap[::grid,::grid,1,0], units=\"xy\", headwidth=0, scale=1)\n",
    "ax1.quiver(X[::grid,::grid],Y[::grid,::grid],EigVecSwap[::grid,::grid,0,1],EigVecSwap[::grid,::grid,1,1], units=\"xy\", headwidth=0, scale=1)\n",
    "ax1.quiver(X[::grid,::grid],Y[::grid,::grid],-EigVecSwap[::grid,::grid,0,0],-EigVecSwap[::grid,::grid,1,0], units=\"xy\", headwidth=0, scale=1)\n",
    "ax1.quiver(X[::grid,::grid],Y[::grid,::grid],-EigVecSwap[::grid,::grid,0,1],-EigVecSwap[::grid,::grid,1,1], units=\"xy\", headwidth=0, scale=1)\n",
    "plt.show()"
   ]
  },
  {
   "cell_type": "code",
   "execution_count": null,
   "metadata": {},
   "outputs": [],
   "source": [
    "#plot of heatmap for positive eigenvalues\n",
    "#plot of eigenvectors for both eigenvalues + and - \n",
    "fig, ax1 = plt.subplots()\n",
    "ax1.quiver(X[::grid,::grid],Y[::grid,::grid],cartMatrix[::grid,::grid,0,0],cartMatrix[::grid,::grid,1,0], units=\"xy\", headwidth=0, scale=1)\n",
    "ax1.quiver(X[::grid,::grid],Y[::grid,::grid],cartMatrix[::grid,::grid,0,1],cartMatrix[::grid,::grid,1,1], units=\"xy\", headwidth=0, scale=1)\n",
    "ax1.quiver(X[::grid,::grid],Y[::grid,::grid],-cartMatrix[::grid,::grid,0,0],-cartMatrix[::grid,::grid,1,0], units=\"xy\", headwidth=0, scale=1)\n",
    "ax1.quiver(X[::grid,::grid],Y[::grid,::grid],-cartMatrix[::grid,::grid,0,1],-cartMatrix[::grid,::grid,1,1], units=\"xy\", headwidth=0, scale=1)\n",
    "z2 = small_eigval\n",
    "ax1 = plt.imshow(np.log(np.abs(z2)), norm=LogNorm(), interpolation='bilinear', extent = [-7,7,-7,7])\n",
    "plt.colorbar()\n",
    "plt.show()"
   ]
  },
  {
   "cell_type": "code",
   "execution_count": null,
   "metadata": {},
   "outputs": [],
   "source": [
    "#Make for loop to calculate each eigenvalue separately for each of the nxn matrices. ?? i think that makes sense\n",
    "#eigval = np.zeros((nx, ny, 2))\n",
    "#eigvec = np.zeros((nx,ny, 2, 2))\n",
    "#calc1 = np.zeros((nx, ny, 2, 2))\n",
    "#calc2 = np.zeros((nx, ny, 2, 2))\n",
    "#for i in range(nx):\n",
    "#    for j in range(ny):\n",
    "#        a, b = np.linalg.eig(Matrix[:,:,i,j])\n",
    "#        eigval[i,j,0] = a[0]\n",
    "#        eigval[i,j,1] = a[1]\n",
    "#        eigvec[i,j,0,0] = b[0,0]\n",
    "#        eigvec[i,j,1,0] = b[1,0]\n",
    "#        eigvec[i,j,0,1] = b[0,1]\n",
    "#        eigvec[i,j,0,1] = b[1,1]\n",
    "#        calc1[i,j,0,0] = a[0]*b[0,0]\n",
    "#        calc1[i,j,1,0] = a[0]*b[1,0]\n",
    "#        calc1[i,j,0,1] = a[1]*b[0,1]\n",
    "#        calc1[i,j,1,1] = a[1]*b[1,1]\n",
    "#        calc2[i,j,0,0] = Matrix[0,0,i,j]*b[0,0] + Matrix[0,1,i,j]*b[1,0]\n",
    "#        calc2[i,j,1,0] = Matrix[1,0,i,j]*b[0,0] + Matrix[1,1,i,j]*b[1,0]\n",
    "#        calc2[i,j,0,1] = Matrix[0,0,i,j]*b[0,1] + Matrix[0,1,i,j]*b[0,1]\n",
    "#        calc2[i,j,1,1] = Matrix[1,0,i,j]*b[0,1] + Matrix[1,1,i,j]*b[1,1]"
   ]
  }
 ],
 "metadata": {
  "kernelspec": {
   "display_name": "Python 3",
   "language": "python",
   "name": "python3"
  },
  "language_info": {
   "codemirror_mode": {
    "name": "ipython",
    "version": 3
   },
   "file_extension": ".py",
   "mimetype": "text/x-python",
   "name": "python",
   "nbconvert_exporter": "python",
   "pygments_lexer": "ipython3",
   "version": "3.7.4"
  }
 },
 "nbformat": 4,
 "nbformat_minor": 2
}
